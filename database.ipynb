{
 "metadata": {
  "language_info": {
   "codemirror_mode": {
    "name": "ipython",
    "version": 3
   },
   "file_extension": ".py",
   "mimetype": "text/x-python",
   "name": "python",
   "nbconvert_exporter": "python",
   "pygments_lexer": "ipython3",
   "version": "3.8.3-final"
  },
  "orig_nbformat": 2,
  "kernelspec": {
   "name": "Python 3.8.3 64-bit ('base': conda)",
   "display_name": "Python 3.8.3 64-bit ('base': conda)",
   "metadata": {
    "interpreter": {
     "hash": "3c4fb8679144bfdf711e868dc6c311df6b0796c55cdc83c05031ff2c5e028a71"
    }
   }
  }
 },
 "nbformat": 4,
 "nbformat_minor": 2,
 "cells": [
  {
   "cell_type": "code",
   "execution_count": null,
   "metadata": {},
   "outputs": [],
   "source": [
    "%env MONGO_PW changeme\n",
    "import os\n",
    "import pymongo\n",
    "mongoUri = 'mongodb://{id}:{pw}@{endpoint}/{db}?authSource={db}'\n",
    "client = pymongo.MongoClient(\n",
    "    mongoUri.format(\n",
    "        id=\"2020sw\",\n",
    "        pw=os.environ['MONGO_PW'],\n",
    "        endpoint=\"doctor.iptime.org\",\n",
    "        db=\"2020sw\"\n",
    "    ))\n",
    "db = client.get_database()\n",
    "\n",
    "print(\"Available collections:\")\n",
    "for c in db.list_collection_names():\n",
    "    print(\"\\t\", c, db.get_collection(c).estimated_document_count())"
   ]
  },
  {
   "cell_type": "code",
   "execution_count": null,
   "metadata": {},
   "outputs": [],
   "source": [
    "# json 파일을 그대로 DB에 넣어버리는 코드\n",
    "col = client.get_database().get_collection(\"articles\")\n",
    "col.create_index([('date', pymongo.ASCENDING)])\n",
    "\n",
    "from datetime import datetime\n",
    "\n",
    "for fname in os.listdir('data'):\n",
    "    with open(os.path.join('data', fname)) as f:\n",
    "        data = json.load(f)\n",
    "        for o in data:\n",
    "            o['date'] = datetime.strptime(o['date'], \"%Y.%m.%d\")\n",
    "        col.insert_many(data)\n",
    "    print(fname)"
   ]
  },
  {
   "cell_type": "code",
   "execution_count": null,
   "metadata": {},
   "outputs": [],
   "source": [
    "# articles에 들어있는 기사에서 명사(keyword) 추출하는 코드\n",
    "\n",
    "# %%\n",
    "print(\"Init Collection\")\n",
    "col = db.get_collection(\"articles\")\n",
    "col.update_many({\"status\": { \"$exists\":False }}, {\"$set\": {\"status\": 0}}) # 새로 추가된 기사\n",
    "col.update_many({\"status\": 1}, {\"$set\": {\"status\": 0}}) # 파싱 안된 기사\n",
    "col.create_index([(\"status\", pymongo.DESCENDING)])\n",
    "# %%\n",
    "print(\"Init Kkma\")\n",
    "from konlpy.tag import Kkma\n",
    "km = Kkma()\n",
    "# %%\n",
    "col = db.get_collection(\"articles\")\n",
    "while True:\n",
    "    doc = col.find_one_and_update({\"status\" : 0}, {\"$set\": {\"status\": 1}})\n",
    "    if doc == None:\n",
    "        break\n",
    "    print(doc['link'], doc['title'])\n",
    "    keywords = {}\n",
    "    for noun in km.nouns(doc['body']):\n",
    "        if len(noun) < 2:\n",
    "            continue\n",
    "        if noun not in keywords:\n",
    "            keywords[noun] = 0\n",
    "        keywords[noun] += 1\n",
    "    col.find_one_and_update({\"_id\": doc[\"_id\"]}, {\"$set\": {\"status\": 2, \"keywords\": keywords}})\n",
    "    print(doc['link'], doc['title'], len(keywords))\n",
    "print(\"Finished\")"
   ]
  },
  {
   "cell_type": "code",
   "execution_count": null,
   "metadata": {},
   "outputs": [],
   "source": [
    "# status: 2 에서 status: 3 포맷으로 바꾸는 코드\n",
    "col = db.get_collection(\"articles\")\n",
    "while True:\n",
    "    doc = col.find_one({\"status\": 2})\n",
    "    if doc == None:\n",
    "        break\n",
    "    keywords = []\n",
    "    for k in doc[\"keywords\"].keys():\n",
    "        keywords.append({\n",
    "            \"name\": k,\n",
    "            \"value\": doc[\"keywords\"][k]\n",
    "        })\n",
    "    col.find_one_and_update({\"_id\": doc['_id']}, {\"$set\": { \"keywords\": keywords, \"status\": 3}})\n",
    "    print(doc['link'], doc['title'], len(keywords))\n",
    "print(\"Finished\")"
   ]
  },
  {
   "cell_type": "code",
   "execution_count": null,
   "metadata": {},
   "outputs": [],
   "source": [
    "# pagerank 작업할 DB placeholder 만드는 코드\n",
    "from datetime import datetime, timedelta\n",
    "from IPython.display import clear_output\n",
    "\n",
    "articles = db.get_collection(\"articles\")\n",
    "ranked = db.get_collection(\"ranked\")\n",
    "ranked.create_index([(\"status\", pymongo.DESCENDING)])\n",
    "ranked.create_index([(\"date\", pymongo.DESCENDING)], unique=True)\n",
    "for date in articles.find({\"status\": 3}).distinct(\"date\"):\n",
    "    clear_output(wait=True)\n",
    "    print(date)\n",
    "    ranked.insert_one({\n",
    "        \"date\": date,\n",
    "        \"status\": 0,\n",
    "        \"keywords\": []\n",
    "    })"
   ]
  },
  {
   "cell_type": "code",
   "execution_count": null,
   "metadata": {},
   "outputs": [],
   "source": []
  }
 ]
}
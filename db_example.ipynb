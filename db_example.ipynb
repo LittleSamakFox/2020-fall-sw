{
 "cells": [
  {
   "cell_type": "code",
   "execution_count": 1,
   "metadata": {},
   "outputs": [
    {
     "output_type": "stream",
     "name": "stdout",
     "text": "Available collections:\n\t articles 760535\n"
    }
   ],
   "source": [
    "import pymongo\n",
    "mongoUri = 'mongodb://{id}:{pw}@{endpoint}/{db}?authSource={db}'\n",
    "client = pymongo.MongoClient(\n",
    "    mongoUri.format(\n",
    "        id=\"2020sw\",\n",
    "        pw=\"changeme\",\n",
    "        endpoint=\"doctor.iptime.org\",\n",
    "        db=\"2020sw\"\n",
    "    ))\n",
    "db = client.get_database()\n",
    "\n",
    "print(\"Available collections:\")\n",
    "for c in db.list_collection_names():\n",
    "    print(\"\\t\", c, db.get_collection(c).estimated_document_count())"
   ]
  },
  {
   "cell_type": "code",
   "execution_count": 3,
   "metadata": {},
   "outputs": [
    {
     "output_type": "execute_result",
     "data": {
      "text/plain": "'keywords_-1'"
     },
     "metadata": {},
     "execution_count": 3
    }
   ],
   "source": [
    "col = db.get_collection(\"articles\")\n",
    "#col.update_many({\"status\": { \"$exists\":False }}, {\"$set\": {\"status\": 0}})\n",
    "col.create_index([(\"status\", pymongo.DESCENDING)])\n",
    "col.create_index([(\"keywords\", pymongo.DESCENDING)])"
   ]
  },
  {
   "cell_type": "code",
   "execution_count": 44,
   "metadata": {},
   "outputs": [],
   "source": [
    "from konlpy.tag import Kkma\n",
    "km = Kkma()"
   ]
  },
  {
   "cell_type": "code",
   "execution_count": 54,
   "metadata": {},
   "outputs": [
    {
     "output_type": "stream",
     "name": "stdout",
     "text": "https://news.sbs.co.kr/news/endPage.do?news_id=N1003290044 '피겨 그랑프리' 아사다 마오, 6차 대회서 종합 3위\n"
    }
   ],
   "source": [
    "col = db.get_collection(\"articles\")\n",
    "while True:\n",
    "    doc = col.find_one_and_update({\"status\" : 0}, {\"$set\": {\"status\": 1}})\n",
    "    keywords = {}\n",
    "    for noun in km.nouns(doc['body']):\n",
    "        if len(noun) < 2:\n",
    "            continue\n",
    "        if noun not in keywords:\n",
    "            keywords[noun] = 0\n",
    "        keywords[noun] += 1\n",
    "    col.find_one_and_update({\"_id\": doc[\"_id\"]}, {\"$set\": {\"status\": 2, \"keywords\": keywords}})\n",
    "    print(doc['link'], doc['title'])\n",
    "    \n",
    "    "
   ]
  }
 ],
 "metadata": {
  "language_info": {
   "codemirror_mode": {
    "name": "ipython",
    "version": 3
   },
   "file_extension": ".py",
   "mimetype": "text/x-python",
   "name": "python",
   "nbconvert_exporter": "python",
   "pygments_lexer": "ipython3",
   "version": "3.8.3-final"
  },
  "orig_nbformat": 2,
  "kernelspec": {
   "name": "python3",
   "display_name": "Python 3"
  }
 },
 "nbformat": 4,
 "nbformat_minor": 2
}
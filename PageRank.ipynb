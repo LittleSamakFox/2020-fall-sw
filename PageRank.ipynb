{
 "cells": [
  {
   "cell_type": "markdown",
   "metadata": {},
   "source": [
    "## 라운드 한바퀴 실행 함수"
   ]
  },
  {
   "cell_type": "code",
   "execution_count": 50,
   "metadata": {},
   "outputs": [],
   "source": [
    "def execRound(key_ndarray, lastRank, edgeSum):\n",
    "    size=len(key_ndarray[0])\n",
    "    newWeight=lastRank\n",
    "    DF=0.85\n",
    "    for i in range(size):\n",
    "        pr=0.0\n",
    "        \n",
    "        for j in range(size):\n",
    "            if (key_ndarray[i][j]==0): continue\n",
    "            else :\n",
    "                pr+=(lastRank[j]/edgeSum[j])\n",
    "\n",
    "        newWeight[i]=((1-DF)/size)+(DF*pr)\n",
    "    return newWeight"
   ]
  },
  {
   "cell_type": "markdown",
   "metadata": {},
   "source": [
    "## PageRank Main함수 \n",
    "\n",
    "### 실행 예시 dataSet=col.find({'date':datetime(2020,2,25,0,0)})\n",
    "### PageRank(dataSet)\n",
    "### return : list({'keyword' : 'name' , 'pageRank' : data})"
   ]
  },
  {
   "cell_type": "code",
   "execution_count": 96,
   "metadata": {},
   "outputs": [],
   "source": [
    "import numpy as np\n",
    "\n",
    "def PageRank(dataSet):\n",
    "    datalist=[]\n",
    "    for doc in dataSet:\n",
    "        datalist.append(doc)\n",
    "    keyword_dict=dict()\n",
    "    count=0\n",
    "    for doc in datalist:\n",
    "        for j in doc['keywords']:\n",
    "            if(j['name'] not in keyword_dict):\n",
    "                keyword_dict[j['name']]=count\n",
    "                count+=1\n",
    "    key_list=[]\n",
    "    for i in keyword_dict:\n",
    "        key_list.append(i)\n",
    "    nodeNum=len(key_list)\n",
    "    key_ndarray=np.zeros((nodeNum,nodeNum))\n",
    "    pageRank=np.full(nodeNum,1/nodeNum)\n",
    "    \n",
    "    for doc in datalist:\n",
    "        for j in doc['keywords']:\n",
    "            init_name=j['name']\n",
    "            for k in doc['keywords']:\n",
    "                comp_name=k['name']\n",
    "                if(init_name==comp_name):\n",
    "                    continue\n",
    "                key_ndarray[keyword_dict[init_name]][keyword_dict[comp_name]]=1\n",
    "                key_ndarray[keyword_dict[comp_name]][keyword_dict[init_name]]=1\n",
    "\n",
    "\n",
    "    edgeSum=key_ndarray[0]\n",
    "    for i in range(nodeNum):\n",
    "        edgeSum[i]=key_ndarray[i].sum()\n",
    "    pageRank=execRound(key_ndarray,pageRank,edgeSum)\n",
    "    print(pageRank.sum())\n",
    "#     Rank_list=[]\n",
    "#     for i in range(nodeNum):\n",
    "#         Rank_list.append({'keyword':key_list[i],'pageRank':pageRank[i]})\n",
    "#     return Rank_list"
   ]
  },
  {
   "cell_type": "code",
   "execution_count": 65,
   "metadata": {},
   "outputs": [
    {
     "name": "stdout",
     "output_type": "stream",
     "text": [
      "Available collections:\n",
      "\t articles 760535\n"
     ]
    }
   ],
   "source": [
    "# import pymongo\n",
    "# mongoUri = 'mongodb://{id}:{pw}@{endpoint}/{db}?authSource={db}'\n",
    "# client = pymongo.MongoClient(\n",
    "#     mongoUri.format(\n",
    "#         id=\"2020sw\",\n",
    "#         pw=\"swswsw\",\n",
    "#         endpoint=\"doctor.iptime.org\",\n",
    "#         db=\"2020sw\"\n",
    "#     ))\n",
    "# db = client.get_database()\n",
    "\n",
    "# print(\"Available collections:\")\n",
    "# for c in db.list_collection_names():\n",
    "#     print(\"\\t\", c, db.get_collection(c).estimated_document_count())"
   ]
  },
  {
   "cell_type": "code",
   "execution_count": 66,
   "metadata": {},
   "outputs": [
    {
     "data": {
      "text/plain": [
       "'keywords_-1'"
      ]
     },
     "execution_count": 66,
     "metadata": {},
     "output_type": "execute_result"
    }
   ],
   "source": [
    "# col = db.get_collection(\"articles\")\n",
    "# #col.update_many({\"status\": { \"$exists\":False }}, {\"$set\": {\"status\": 0}})\n",
    "# col.create_index([(\"status\", pymongo.DESCENDING)])\n",
    "# col.create_index([(\"keywords\", pymongo.DESCENDING)])"
   ]
  },
  {
   "cell_type": "code",
   "execution_count": 67,
   "metadata": {},
   "outputs": [],
   "source": [
    "# from pprint import pprint\n",
    "# from datetime import datetime\n",
    "# import numpy as np\n",
    "# import time"
   ]
  },
  {
   "cell_type": "code",
   "execution_count": 98,
   "metadata": {},
   "outputs": [
    {
     "name": "stdout",
     "output_type": "stream",
     "text": [
      "1.2382762451230571\n",
      "1 번째 time: 23.450522661209106\n",
      "1.2145919135933594\n",
      "2 번째 time: 23.46491026878357\n",
      "1.2672008189424004\n",
      "3 번째 time: 66.9071614742279\n",
      "time : 113.82259440422058\n"
     ]
    }
   ],
   "source": [
    "# start=time.time()\n",
    "# for i in range(1,4):\n",
    "#     roundTime=time.time()\n",
    "#     dataSet=col.find({'date':datetime(2020,2,i,0,0)})\n",
    "#     PageRank(dataSet)\n",
    "#     print(i,\"번째 time:\",time.time()-roundTime)\n",
    "\n",
    "# print(\"time :\", time.time() - start)"
   ]
  }
 ],
 "metadata": {
  "kernelspec": {
   "display_name": "Python 3",
   "language": "python",
   "name": "python3"
  },
  "language_info": {
   "codemirror_mode": {
    "name": "ipython",
    "version": 3
   },
   "file_extension": ".py",
   "mimetype": "text/x-python",
   "name": "python",
   "nbconvert_exporter": "python",
   "pygments_lexer": "ipython3",
   "version": "3.7.6"
  }
 },
 "nbformat": 4,
 "nbformat_minor": 4
}
